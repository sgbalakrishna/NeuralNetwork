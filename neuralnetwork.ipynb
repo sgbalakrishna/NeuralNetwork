{
 "cells": [
  {
   "cell_type": "markdown",
   "metadata": {},
   "source": [
    "## Implementation of Neural network from scratch"
   ]
  },
  {
   "cell_type": "markdown",
   "metadata": {},
   "source": [
    "### Based on http://neuralnetworksanddeeplearning.com/chap2.html"
   ]
  },
  {
   "cell_type": "code",
   "execution_count": 115,
   "metadata": {},
   "outputs": [],
   "source": [
    "import numpy as np\n",
    "from statistics import mean \n",
    "import pandas as pd\n",
    "import numpy.random as r\n",
    "from random import randrange\n",
    "from tqdm import tqdm_notebook as tqdm\n",
    "from matplotlib import pyplot as plt"
   ]
  },
  {
   "cell_type": "code",
   "execution_count": 119,
   "metadata": {},
   "outputs": [],
   "source": [
    "# define XOR training data\n",
    "X = np.array([\n",
    "    [0, 0],\n",
    "    [0, 1],\n",
    "    [1, 0],\n",
    "    [1, 1],\n",
    "])\n",
    "y = np.atleast_2d([0, 1, 1, 0]).T"
   ]
  },
  {
   "cell_type": "code",
   "execution_count": 116,
   "metadata": {},
   "outputs": [],
   "source": [
    "def sigmoid(x):\n",
    "    return 1/(1+np.exp(-x))\n",
    "\n",
    "def sigmoid_prime(x):\n",
    "    return sigmoid(x) * (1-sigmoid(x))\n",
    "\n",
    "def cost(y_hat, y):\n",
    "    return np.mean([_ * _ for _ in (y_hat - y)])\n"
   ]
  },
  {
   "cell_type": "code",
   "execution_count": 117,
   "metadata": {},
   "outputs": [],
   "source": [
    "def init_net(inputSize, layers, outputSize):\n",
    "    input_size = inputSize\n",
    "    output_size = outputSize\n",
    "    params , metadata ,theta = {},{},{}\n",
    "    metadata[\"inputSize\"] = input_size\n",
    "    metadata[\"outputSize\"] = output_size\n",
    "    metadata[\"n_layers\"] = layers\n",
    "    params[\"metadata\"] = metadata \n",
    "    for idx in range(0, layers):\n",
    "        if idx!=layers-1:\n",
    "            theta[\"W_\" + str(idx)] = r.rand(input_size, input_size)\n",
    "            theta[\"B_\" + str(idx)] = np.array([r.rand(input_size)]).T\n",
    "        else:\n",
    "            theta[\"W_\" + str(idx)] = r.rand(outputSize,input_size)\n",
    "            theta[\"B_\" + str(idx)] = np.array([r.rand(outputSize)]).T\n",
    "    params[\"theta\"] = theta\n",
    "    return params"
   ]
  },
  {
   "cell_type": "code",
   "execution_count": 209,
   "metadata": {},
   "outputs": [],
   "source": [
    "def forwardPass(x,y,params):\n",
    "    L = params[\"metadata\"][\"n_layers\"]\n",
    "    theta = params[\"theta\"]\n",
    "    forward = {}\n",
    "    for idx in range(0,L):\n",
    "        if idx == 0:\n",
    "            data_in = np.array([x]).T\n",
    "            w,i = params[\"theta\"][\"W_\"+str(idx)],data_in\n",
    "            z = (np.matmul(w,i))+params[\"theta\"][\"B_\"+str(idx)]\n",
    "            a = sigmoid(z)\n",
    "            forward[\"Z_\"+str(idx)] = z\n",
    "            forward[\"A_\"+str(idx)] = a\n",
    "            forward[\"A_prev\"+str(idx)] = data_in\n",
    "        else:\n",
    "            w,i = params[\"theta\"][\"W_\"+str(idx)],a\n",
    "            forward[\"A_prev\"+str(idx)] = a\n",
    "            z = (np.matmul(w,i))+params[\"theta\"][\"B_\"+str(idx)]\n",
    "            a = sigmoid(z)\n",
    "            forward[\"Z_\"+str(idx)] = z\n",
    "            forward[\"A_\"+str(idx)] = a\n",
    "    forward[\"error\"] = np.subtract(y,a)/params[\"metadata\"][\"outputSize\"]\n",
    "    params[\"forwardPass\"] = forward  \n",
    "    return params"
   ]
  },
  {
   "cell_type": "code",
   "execution_count": 210,
   "metadata": {},
   "outputs": [],
   "source": [
    "params = forwardPass(X[1],y[1],params)"
   ]
  },
  {
   "cell_type": "markdown",
   "metadata": {},
   "source": [
    "### 1. Back propogation"
   ]
  },
  {
   "cell_type": "code",
   "execution_count": 211,
   "metadata": {},
   "outputs": [],
   "source": [
    "def backPropogation(params,lr,update=True, debug=False):\n",
    "    L = params[\"metadata\"][\"n_layers\"]\n",
    "    params[\"metadata\"][\"learningRate\"] = lr\n",
    "    finalLayer = True\n",
    "    deltas = {}\n",
    "    d_theta = {}\n",
    "    for l in reversed(range(0,L)):\n",
    "        if finalLayer:\n",
    "            a_prev = params[\"forwardPass\"][\"A_prev\"+str(l)].reshape(1,-1)\n",
    "            delta = -params[\"forwardPass\"][\"error\"]*sigmoid_prime(params[\"forwardPass\"][\"Z_\"+str(l)])\n",
    "            deltas[\"delta_\"+str(l)] = delta\n",
    "            dw = np.matmul(delta,a_prev)\n",
    "            d_theta[\"d_theta_\"+str(l)] = dw\n",
    "            \n",
    "            if update:\n",
    "                params[\"theta\"][\"W_\"+str(l)] -= params[\"metadata\"][\"learningRate\"]*dw\n",
    "                params[\"theta\"][\"B_\"+str(l)] -= params[\"metadata\"][\"learningRate\"]*delta\n",
    "            if debug:\n",
    "                print(delta, dw)\n",
    "            finalLayer = False\n",
    "        else:\n",
    "            a_prev = params[\"forwardPass\"][\"A_prev\"+str(l)].reshape(1,-1)\n",
    "            w_next = params[\"theta\"][\"W_\"+str(l+1)].T\n",
    "            delta = np.matmul(w_next,delta)*sigmoid_prime(params[\"forwardPass\"][\"Z_\"+str(l)])\n",
    "            deltas[\"delta_\"+str(l)] = delta\n",
    "            dw = np.matmul(delta,a_prev)\n",
    "            d_theta[\"d_theta_\"+str(l)] = dw\n",
    "            if update:\n",
    "                params[\"theta\"][\"W_\"+str(l)] -= params[\"metadata\"][\"learningRate\"]*dw\n",
    "                params[\"theta\"][\"B_\"+str(l)] -= params[\"metadata\"][\"learningRate\"]*delta\n",
    "            if debug:\n",
    "                print(delta)\n",
    "    params[\"deltas\"] = deltas\n",
    "    params[\"d_theta\"] = d_theta\n",
    "    \n",
    "    return params"
   ]
  },
  {
   "cell_type": "code",
   "execution_count": 213,
   "metadata": {},
   "outputs": [],
   "source": [
    "var = init_net(2, 2, 1)\n",
    "epochs = 10000\n",
    "epoch_error = []\n",
    "\n",
    "for i in range(0,epochs):\n",
    "    item = randrange(0,3)\n",
    "    var = forwardPass(X[item],y[item],var)\n",
    "    var = backPropogation(var,0.125, debug=False)\n",
    "    c = 0.5*(var[\"forwardPass\"][\"error\"])**2\n",
    "    epoch_error.append(c)\n",
    "    "
   ]
  },
  {
   "cell_type": "code",
   "execution_count": 214,
   "metadata": {},
   "outputs": [
    {
     "data": {
      "image/png": "[encoded data removed]",
      "text/plain": [
       "<Figure size 432x288 with 1 Axes>"
      ]
     },
     "metadata": {
      "needs_background": "light"
     },
     "output_type": "display_data"
    }
   ],
   "source": [
    "plt.plot(np.squeeze(epoch_error))\n",
    "plt.show()"
   ]
  },
  {
   "cell_type": "markdown",
   "metadata": {},
   "source": [
    "### Grad Check"
   ]
  },
  {
   "cell_type": "code",
   "execution_count": 215,
   "metadata": {},
   "outputs": [],
   "source": [
    "params = init_net(2,3,1)\n",
    "pm = forwardPass(X[1], y[1], params)\n",
    "pm = backPropogation(pm,0.125,update=False)\n",
    "epsilon = 1e-4"
   ]
  },
  {
   "cell_type": "code",
   "execution_count": 216,
   "metadata": {},
   "outputs": [
    {
     "name": "stdout",
     "output_type": "stream",
     "text": [
      "grad Check [[0.10791287 0.11399166]]\n",
      "deltas [[0.10791287 0.11399166]]\n"
     ]
    }
   ],
   "source": [
    "grad_check = np.zeros(params[\"theta\"]['W_2'].shape)\n",
    "for i in range(0,params[\"theta\"]['W_2'].shape[0]):\n",
    "    for j in range(0,params[\"theta\"]['W_2'].shape[1]):\n",
    "        params[\"theta\"]['W_2'][i][j] = params[\"theta\"]['W_2'][i][j]+epsilon\n",
    "        p = forwardPass(X[1], y[1], params)\n",
    "        s = np.array(p[\"forwardPass\"][\"error\"])\n",
    "        j_plus = s.dot(s)/2\n",
    "        \n",
    "        params[\"theta\"]['W_2'][i][j] = params[\"theta\"]['W_2'][i][j]-2*epsilon\n",
    "        p = forwardPass(X[1], y[1], params)\n",
    "        s = np.array(p[\"forwardPass\"][\"error\"])\n",
    "        j_minus = s.dot(s)/2\n",
    "        grad_check[i][j] = (j_plus - j_minus)/ (2*epsilon)\n",
    "        params[\"theta\"]['W_2'][i][j] = params[\"theta\"]['W_2'][i][j]+epsilon\n",
    "        \n",
    "print(\"grad Check\",grad_check)\n",
    "print(\"deltas\", pm[\"d_theta\"]['d_theta_2'])"
   ]
  },
  {
   "cell_type": "code",
   "execution_count": 217,
   "metadata": {},
   "outputs": [],
   "source": [
    "dataset = pd.DataFrame([[2.7810836, 2.550537003, 0],\n",
    "           [1.465489372, 2.362125076, 0],\n",
    "           [3.396561688, 4.400293529, 0],\n",
    "           [1.38807019, 1.850220317, 0],\n",
    "           [3.06407232, 3.005305973, 0],\n",
    "           [7.627531214, 2.759262235, 1],\n",
    "           [5.332441248, 2.088626775, 1],\n",
    "           [6.922596716, 1.77106367, 1],\n",
    "           [8.675418651, -0.242068655, 1],\n",
    "           [7.673756466, 3.508563011, 1]])\n",
    "\n",
    "X = dataset.values[:,0:2]\n",
    "y = dataset.values[:,2]"
   ]
  },
  {
   "cell_type": "code",
   "execution_count": 220,
   "metadata": {},
   "outputs": [
    {
     "data": {
      "image/png": "[encoded data removed]",
      "text/plain": [
       "<Figure size 432x288 with 1 Axes>"
      ]
     },
     "metadata": {
      "needs_background": "light"
     },
     "output_type": "display_data"
    }
   ],
   "source": [
    "var = init_net(2, 2, 1)\n",
    "epochs = 10000\n",
    "epoch_error = []\n",
    "\n",
    "for i in range(0,epochs):\n",
    "    item = randrange(0,9)\n",
    "    var = forwardPass(X[item],y[item],var)\n",
    "    var = backPropogation(var,0.25, debug=False)\n",
    "    c = 0.5*(var[\"forwardPass\"][\"error\"])**2\n",
    "    epoch_error.append(c)\n",
    "\n",
    "plt.plot(np.squeeze(epoch_error))\n",
    "plt.show()"
   ]
  },
  {
   "cell_type": "code",
   "execution_count": null,
   "metadata": {},
   "outputs": [],
   "source": []
  }
 ],
 "metadata": {
  "kernelspec": {
   "display_name": "Python 3",
   "language": "python",
   "name": "python3"
  },
  "language_info": {
   "codemirror_mode": {
    "name": "ipython",
    "version": 3
   },
   "file_extension": ".py",
   "mimetype": "text/x-python",
   "name": "python",
   "nbconvert_exporter": "python",
   "pygments_lexer": "ipython3",
   "version": "3.7.3"
  }
 },
 "nbformat": 4,
 "nbformat_minor": 2
}
