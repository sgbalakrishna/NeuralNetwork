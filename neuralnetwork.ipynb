{
 "cells": [
  {
   "cell_type": "markdown",
   "metadata": {},
   "source": [
    "## Implementation of Neural network from scratch"
   ]
  },
  {
   "cell_type": "code",
   "execution_count": 1,
   "metadata": {},
   "outputs": [
    {
     "ename": "NameError",
     "evalue": "name 'params' is not defined",
     "output_type": "error",
     "traceback": [
      "\u001b[0;31m---------------------------------------------------------------------------\u001b[0m",
      "\u001b[0;31mNameError\u001b[0m                                 Traceback (most recent call last)",
      "\u001b[0;32m<ipython-input-1-607a82150136>\u001b[0m in \u001b[0;36m<module>\u001b[0;34m\u001b[0m\n\u001b[0;32m----> 1\u001b[0;31m \u001b[0;32mdel\u001b[0m \u001b[0mparams\u001b[0m\u001b[0;34m\u001b[0m\u001b[0;34m\u001b[0m\u001b[0m\n\u001b[0m",
      "\u001b[0;31mNameError\u001b[0m: name 'params' is not defined"
     ]
    }
   ],
   "source": [
    "del params"
   ]
  },
  {
   "cell_type": "code",
   "execution_count": 2,
   "metadata": {},
   "outputs": [],
   "source": [
    "import numpy as np\n",
    "from statistics import mean \n",
    "import pandas as pd\n",
    "import numpy.random as r\n",
    "from random import randrange\n",
    "from tqdm import tqdm_notebook as tqdm\n",
    "from matplotlib import pyplot as plt"
   ]
  },
  {
   "cell_type": "code",
   "execution_count": 3,
   "metadata": {},
   "outputs": [],
   "source": [
    "def activation(x):\n",
    "    return 1 / (1 + np.exp(-x))\n",
    "\n",
    "def d_activation(x):\n",
    "    return np.multiply(x,1-x)\n",
    "\n",
    "def cost(yHat,y):\n",
    "    return (y-yHat).dot(y-yHat)"
   ]
  },
  {
   "cell_type": "code",
   "execution_count": 4,
   "metadata": {},
   "outputs": [],
   "source": [
    "def init_net(inputSize, num_hidden, outputSize, offset):\n",
    "    input_size = inputSize\n",
    "    output_size = outputSize\n",
    "    params = {}\n",
    "    params[\"inputSize\"] = input_size\n",
    "    params[\"outputSize\"] = output_size\n",
    "    params[\"n_layers\"] = num_hidden+1\n",
    "    for hl in range(0, num_hidden):\n",
    "        params[\"layer_\" + str(hl)] = r.rand(input_size, input_size)-offset\n",
    "        params[\"biases_\" + str(hl)] = r.rand(input_size)+offset\n",
    "    params[\"layer_\"+ str(hl + 1)] = r.rand(output_size, input_size)-offset\n",
    "    params[\"biases_\" + str(hl+1)] = r.rand(output_size)+offset\n",
    "    return params"
   ]
  },
  {
   "cell_type": "code",
   "execution_count": 5,
   "metadata": {},
   "outputs": [],
   "source": [
    "def forwardPass(x,y,params):\n",
    "    params = params\n",
    "    x = x[np.newaxis].T\n",
    "    for layer in range(0, params[\"n_layers\"]):\n",
    "        w = params[\"layer_\" + str(layer)]\n",
    "        if layer == 0:\n",
    "            z = np.matmul(w,x)+(params[\"biases_\"+str(layer)][np.newaxis].T)\n",
    "            a = activation(z)\n",
    "            params[\"a_layer\" + str(layer)] = a\n",
    "            params[\"a_prev\" + str(layer)] = x\n",
    "            params[\"d_transfer_layer\" + str(layer)] = np.multiply(a,(1-a))\n",
    "        else:\n",
    "            node_in = a\n",
    "            z = np.matmul(w,node_in)+(params[\"biases_\"+ str(layer)][np.newaxis].T)\n",
    "            a = activation(z)\n",
    "            params[\"a_layer\" + str(layer)] = a\n",
    "            params[\"a_prev\" + str(layer)] = node_in\n",
    "            params[\"d_transfer_layer\" + str(layer)] = np.multiply(a,(1-a))\n",
    "    final_error = np.subtract(y,a)\n",
    "    #params[\"final_error\"] = np.asarray(final_error/params[\"outputSize\"])\n",
    "    params[\"final_error\"] = (1/params[\"outputSize\"])*(np.squeeze(y)-np.squeeze(a))\n",
    "    return params"
   ]
  },
  {
   "cell_type": "markdown",
   "metadata": {},
   "source": [
    "## Backpropogation"
   ]
  },
  {
   "cell_type": "markdown",
   "metadata": {},
   "source": [
    "### 1. error propogation"
   ]
  },
  {
   "cell_type": "code",
   "execution_count": 6,
   "metadata": {},
   "outputs": [],
   "source": [
    "def errorPropogate(params):\n",
    "    error = params['final_error']\n",
    "    params['error_layer'+str(params[\"n_layers\"]-1)] = error[np.newaxis].T\n",
    "    \n",
    "    for i in range(params[\"n_layers\"]-1,0,-1):\n",
    "        k = i-1\n",
    "        error_prev = params['error_layer'+str(k+1)]\n",
    "        w_prev = params['layer_'+str(k+1)]\n",
    "        error = np.matmul(w_prev.T, error_prev.ravel())\n",
    "        params['error_layer'+str(k)] = error[np.newaxis].T\n",
    "    return params"
   ]
  },
  {
   "cell_type": "markdown",
   "metadata": {},
   "source": [
    "### 2. backprop"
   ]
  },
  {
   "cell_type": "code",
   "execution_count": 7,
   "metadata": {},
   "outputs": [],
   "source": [
    "def backprop(params, update=True):\n",
    "    params = errorPropogate(params)\n",
    "    delta = 1\n",
    "    error_slopes = {}\n",
    "    for i in range(params[\"n_layers\"],0,-1):\n",
    "        k = i-1\n",
    "        e = np.squeeze(params['error_layer'+str(k)]).reshape(-1,1)\n",
    "        sigma_dash = params[\"d_transfer_layer\" + str(k)]\n",
    "        delta = np.multiply(e,sigma_dash)\n",
    "        del_w = np.matmul(delta,params[\"a_prev\" + str(k)].T)\n",
    "        error_slopes[\"del_w_\" + str(k)] = del_w\n",
    "        error_slopes[\"delta_\" + str(k)] = delta\n",
    "        if update:\n",
    "            params[\"layer_\" + str(k)] += params[\"learningRate\"]*del_w\n",
    "            params[\"biases_\" + str(k)] += params[\"learningRate\"]*np.squeeze(delta)\n",
    "    params[\"deltas\"] = error_slopes\n",
    "    return params"
   ]
  },
  {
   "cell_type": "markdown",
   "metadata": {},
   "source": [
    "## Training Schemes\n",
    "### 1. Batch training"
   ]
  },
  {
   "cell_type": "code",
   "execution_count": 8,
   "metadata": {},
   "outputs": [],
   "source": [
    "def batch_train_neuralnet(x,y,lr,params,batchSize):\n",
    "    params[\"learningRate\"] = lr\n",
    "    m = len(y)\n",
    "    tmp = []\n",
    "    result = {}\n",
    "    batch = np.random.choice(m, batchSize, replace=False)\n",
    "    \n",
    "    for item in batch:\n",
    "        \n",
    "        params = forwardPass(x[item], y[item], params)\n",
    "        params = backprop(params, update = False)\n",
    "        dict_in = params[\"deltas\"]\n",
    "        result = {key: (result.get(key, 0) + dict_in.get(key, 0))/batchSize\n",
    "              for key in set(result) | set(dict_in)}\n",
    "    params[\"deltas\"] = result  \n",
    "        \n",
    "    for i in range(params[\"n_layers\"],0,-1):\n",
    "        k = i-1\n",
    "        params[\"layer_\" + str(k)] += params[\"learningRate\"]*params[\"deltas\"][\"del_w_\"+str(k)]\n",
    "        params[\"biases_\" + str(k)] += params[\"learningRate\"]*np.squeeze(params[\"deltas\"][\"delta_\"+str(k)])\n",
    "\n",
    "    return params\n"
   ]
  },
  {
   "cell_type": "markdown",
   "metadata": {},
   "source": [
    "### 2. Online training"
   ]
  },
  {
   "cell_type": "code",
   "execution_count": 9,
   "metadata": {},
   "outputs": [],
   "source": [
    "def online_train_neuralnet(x,y,inSize,n_hidden,outSize,lr,epochs):\n",
    "    params = init_net(inSize,n_hidden,outSize, 0.9)\n",
    "    params[\"learningRate\"] = lr\n",
    "    epoch_error = []\n",
    "    m = len(y)\n",
    "    for epoch in tqdm(range(0,epochs)):\n",
    "        j = randrange(0,m)\n",
    "        params = forwardPass(x[j], y[j], params)\n",
    "        params = backprop(params, update = True)\n",
    "        s = np.array(params[\"final_error\"])\n",
    "        e = s.dot(s)\n",
    "        epoch_error.append(e)\n",
    "    return params, epoch_error\n"
   ]
  },
  {
   "cell_type": "markdown",
   "metadata": {},
   "source": [
    "## Sample dataset "
   ]
  },
  {
   "cell_type": "code",
   "execution_count": 10,
   "metadata": {},
   "outputs": [],
   "source": [
    "dataset = pd.DataFrame([[2.7810836, 2.550537003, 0],\n",
    "           [1.465489372, 2.362125076, 0],\n",
    "           [3.396561688, 4.400293529, 0],\n",
    "           [1.38807019, 1.850220317, 0],\n",
    "           [3.06407232, 3.005305973, 0],\n",
    "           [7.627531214, 2.759262235, 1],\n",
    "           [5.332441248, 2.088626775, 1],\n",
    "           [6.922596716, 1.77106367, 1],\n",
    "           [8.675418651, -0.242068655, 1],\n",
    "           [7.673756466, 3.508563011, 1]])\n",
    "\n",
    "i = dataset.values[:,0:2]\n",
    "o = dataset.values[:,2]"
   ]
  },
  {
   "cell_type": "code",
   "execution_count": null,
   "metadata": {},
   "outputs": [],
   "source": []
  },
  {
   "cell_type": "markdown",
   "metadata": {},
   "source": [
    "### Online training"
   ]
  },
  {
   "cell_type": "code",
   "execution_count": 11,
   "metadata": {},
   "outputs": [
    {
     "data": {
      "application/vnd.jupyter.widget-view+json": {
       "model_id": "774d899f8820439a98b57f194713cb7e",
       "version_major": 2,
       "version_minor": 0
      },
      "text/plain": [
       "HBox(children=(IntProgress(value=0, max=20000), HTML(value='')))"
      ]
     },
     "metadata": {},
     "output_type": "display_data"
    },
    {
     "name": "stdout",
     "output_type": "stream",
     "text": [
      "\n"
     ]
    }
   ],
   "source": [
    "result = online_train_neuralnet(i,o,2,3,1,0.05,20000)"
   ]
  },
  {
   "cell_type": "code",
   "execution_count": 12,
   "metadata": {},
   "outputs": [
    {
     "data": {
      "image/png": "[encoded data removed]",
      "text/plain": [
       "<Figure size 432x288 with 1 Axes>"
      ]
     },
     "metadata": {
      "needs_background": "light"
     },
     "output_type": "display_data"
    }
   ],
   "source": [
    "plt.plot(result[1])\n",
    "plt.show()"
   ]
  },
  {
   "cell_type": "markdown",
   "metadata": {},
   "source": [
    "### Batch training"
   ]
  },
  {
   "cell_type": "code",
   "execution_count": 25,
   "metadata": {},
   "outputs": [],
   "source": [
    "epoch_error = []\n",
    "epochs = 10000\n",
    "params = init_net(2,2,1, 1)\n",
    "batch_error = []\n",
    "\n",
    "for epoch in range(0,epochs):\n",
    "    params = batch_train_neuralnet(i,o,0.1,params,2)\n",
    "    j = randrange(0,9)\n",
    "    p = forwardPass(i[j], o[j], params)\n",
    "    s = np.array(p[\"final_error\"])\n",
    "    e = s.dot(s)\n",
    "    batch_error.append(e)\n",
    "    del p,s,e"
   ]
  },
  {
   "cell_type": "code",
   "execution_count": 26,
   "metadata": {},
   "outputs": [
    {
     "data": {
      "image/png": "[encoded data removed]",
      "text/plain": [
       "<Figure size 432x288 with 1 Axes>"
      ]
     },
     "metadata": {
      "needs_background": "light"
     },
     "output_type": "display_data"
    }
   ],
   "source": [
    "plt.plot(batch_error)\n",
    "plt.show()"
   ]
  },
  {
   "cell_type": "code",
   "execution_count": null,
   "metadata": {},
   "outputs": [],
   "source": []
  }
 ],
 "metadata": {
  "kernelspec": {
   "display_name": "Python 3",
   "language": "python",
   "name": "python3"
  },
  "language_info": {
   "codemirror_mode": {
    "name": "ipython",
    "version": 3
   },
   "file_extension": ".py",
   "mimetype": "text/x-python",
   "name": "python",
   "nbconvert_exporter": "python",
   "pygments_lexer": "ipython3",
   "version": "3.7.3"
  }
 },
 "nbformat": 4,
 "nbformat_minor": 2
}
